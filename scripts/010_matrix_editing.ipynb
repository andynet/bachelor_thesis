{
 "cells": [
  {
   "cell_type": "markdown",
   "metadata": {},
   "source": [
    "# Matrix editing\n",
    "- remove no_host records\n",
    "- select first n most abundant hosts\n",
    "- feature selection with variance threshold on 10% of the least abundant species from selection"
   ]
  },
  {
   "cell_type": "code",
   "execution_count": 13,
   "metadata": {},
   "outputs": [],
   "source": [
    "# imports\n",
    "import pandas as pd\n",
    "from sklearn.feature_selection import VarianceThreshold"
   ]
  },
  {
   "cell_type": "code",
   "execution_count": 14,
   "metadata": {},
   "outputs": [],
   "source": [
    "# parameters\n",
    "matrix_file = '/data/projects/kimona/data_18-01-19/009_matrix.tsv'\n",
    "hosts_file = '/data/projects/kimona/data_18-01-19/101_hosts'\n",
    "hosts_counts_file = '/data/projects/kimona/data_18-01-19/101_hosts_counts'\n",
    "out = '/data/projects/kimona/data_18-01-19/009_edited_matrix.tsv'\n",
    "\n",
    "# number of most abundant hosts to count in\n",
    "n = 8\n",
    "\n",
    "# threshold level as in description\n",
    "level = 0.1"
   ]
  },
  {
   "cell_type": "code",
   "execution_count": 15,
   "metadata": {},
   "outputs": [],
   "source": [
    "# matrix loading\n",
    "matrix = pd.read_csv(matrix_file, sep='\\t', header=0, index_col=0)"
   ]
  },
  {
   "cell_type": "code",
   "execution_count": 16,
   "metadata": {},
   "outputs": [],
   "source": [
    "# removing no_host records\n",
    "with open(hosts_file) as f:\n",
    "    hosts = f.readlines()\n",
    "\n",
    "phages_to_drop = []\n",
    "\n",
    "for record in hosts:\n",
    "    \n",
    "    phage = record.split('\\t')[0]\n",
    "    hosts_string = record.split('\\t')[1].strip()\n",
    "    \n",
    "    if hosts_string == 'no_host':\n",
    "        phages_to_drop.append(phage)\n",
    "        \n",
    "dropped = matrix.drop(phages_to_drop)"
   ]
  },
  {
   "cell_type": "code",
   "execution_count": 17,
   "metadata": {},
   "outputs": [
    {
     "name": "stdout",
     "output_type": "stream",
     "text": [
      "['mycobac', 'no_host', 'strepto', 'escheri', 'gordoni', 'pseudom', 'arthrob', 'lactoco', 'staphyl']\n",
      "[1590, 340, 313, 284, 228, 220, 182, 180]\n"
     ]
    }
   ],
   "source": [
    "# selecting first n most abundant hosts\n",
    "with open(hosts_counts_file) as f:\n",
    "    hosts_counts = f.readlines()\n",
    "\n",
    "strings = []\n",
    "counts = []\n",
    "\n",
    "for line in hosts_counts:\n",
    "    string = line.split()[1].strip()\n",
    "    count = int(line.split()[0].strip())\n",
    "    \n",
    "    if string == 'no_host':\n",
    "        n += 1\n",
    "    else:\n",
    "        counts.append(count)\n",
    "    \n",
    "    strings.append(string)\n",
    "    if len(strings) == n:\n",
    "        break\n",
    "        \n",
    "print(strings)"
   ]
  },
  {
   "cell_type": "code",
   "execution_count": 18,
   "metadata": {},
   "outputs": [],
   "source": [
    "# removing other than strings records\n",
    "phages_to_drop = []\n",
    "\n",
    "for record in hosts:\n",
    "    \n",
    "    phage = record.split('\\t')[0]\n",
    "    hosts_string = record.split('\\t')[1].strip()\n",
    "    to_delete = True\n",
    "    \n",
    "    for string in strings:\n",
    "        if string in hosts_string:\n",
    "            to_delete = False\n",
    "            \n",
    "    if to_delete:\n",
    "        phages_to_drop.append(phage)\n",
    "        \n",
    "pure_matrix = dropped.drop(phages_to_drop)"
   ]
  },
  {
   "cell_type": "code",
   "execution_count": 19,
   "metadata": {},
   "outputs": [],
   "source": [
    "# feature selection\n",
    "min_count = min(counts)\n",
    "\n",
    "var_threshold = (min_count*level)/pure_matrix.shape[0]\n",
    "\n",
    "sel = VarianceThreshold(threshold=var_threshold * (1 - var_threshold))\n",
    "trained_sel = sel.fit(pure_matrix)\n",
    "final_matrix = pure_matrix.iloc[:,trained_sel.get_support(indices=True)]"
   ]
  },
  {
   "cell_type": "code",
   "execution_count": 21,
   "metadata": {},
   "outputs": [],
   "source": [
    "# saving new dataframe\n",
    "final_matrix.to_csv(out, sep='\\t')"
   ]
  }
 ],
 "metadata": {
  "kernelspec": {
   "display_name": "Python 3",
   "language": "python",
   "name": "python3"
  },
  "language_info": {
   "codemirror_mode": {
    "name": "ipython",
    "version": 3
   },
   "file_extension": ".py",
   "mimetype": "text/x-python",
   "name": "python",
   "nbconvert_exporter": "python",
   "pygments_lexer": "ipython3",
   "version": "3.5.2"
  }
 },
 "nbformat": 4,
 "nbformat_minor": 2
}
