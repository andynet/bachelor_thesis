{
 "cells": [
  {
   "cell_type": "markdown",
   "metadata": {},
   "source": [
    "# PCA\n",
    "- perform PCA on matrix"
   ]
  },
  {
   "cell_type": "code",
   "execution_count": null,
   "metadata": {},
   "outputs": [],
   "source": [
    "# imports\n",
    "from sklearn.decomposition import PCA\n",
    "import matplotlib.pyplot as plt\n",
    "from matplotlib.colors import Normalize\n",
    "import pandas as pd\n",
    "import sys\n",
    "import os"
   ]
  },
  {
   "cell_type": "code",
   "execution_count": null,
   "metadata": {},
   "outputs": [],
   "source": [
    "# parameters\n",
    "hosts_file = '/data/projects/kimona/data_18-01-19/101_hosts'\n",
    "labels_files = []\n",
    "matrix_files = []\n",
    "# ../scripts/bachelor_thesis/scripts/103_PCA.py ./101_hosts ./mycobac/hosts.out ./mycobac/matrix_host.tsv ./strepto/hosts.out ./strepto/matrix_host.tsv ./escheri/hosts.out ./escheri/matrix_host.tsv ./gordoni/hosts.out ./gordoni/matrix_host.tsv ./pseudom/hosts.out ./pseudom/matrix_host.tsv ./arthrob/hosts.out ./arthrob/matrix_host.tsv ./lactoco/hosts.out ./lactoco/matrix_host.tsv ./staphyl/hosts.out ./staphyl/matrix_host.tsv"
   ]
  },
  {
   "cell_type": "code",
   "execution_count": null,
   "metadata": {},
   "outputs": [],
   "source": [
    "def get_hosts(file):\n",
    "\n",
    "    with open(file) as f:\n",
    "        lines = f.readlines()\n",
    "\n",
    "    hosts = dict()\n",
    "    for line in lines:\n",
    "        phage = line.split()[0]\n",
    "        host = line.split()[1]\n",
    "\n",
    "        hosts[phage] = host\n",
    "\n",
    "    return hosts"
   ]
  },
  {
   "cell_type": "code",
   "execution_count": null,
   "metadata": {},
   "outputs": [],
   "source": [
    "def on_pick(event):\n",
    "\n",
    "    global matrices\n",
    "    global groups\n",
    "    global hosts\n",
    "\n",
    "    print('--------------------------------------------------------------------------------')\n",
    "    gind = groups.index(event.artist)\n",
    "\n",
    "    for eind in event.ind:\n",
    "        phage = matrices[gind].index[eind]\n",
    "        print('{}\\t{}'.format(phage, hosts[phage]))"
   ]
  },
  {
   "cell_type": "code",
   "execution_count": null,
   "metadata": {},
   "outputs": [],
   "source": [
    "if len(sys.argv) < 4 or len(sys.argv) % 2 != 0:\n",
    "    print('Usage:', sys.argv[0], '<hosts> <label> <matrix> <label> <matrix>...')\n",
    "    exit()\n",
    "\n",
    "data_dir = os.path.dirname(os.path.abspath(sys.argv[1]))\n",
    "\n",
    "labels = [0]\n",
    "matrices = []\n",
    "number_of_records = []\n",
    "\n",
    "for i in range(0, len(sys.argv)//2 - 1):\n",
    "    with open(sys.argv[i*2+2]) as f:\n",
    "        labels.append(labels[-1]+len(f.readlines()))\n",
    "\n",
    "    matrix = pd.read_csv(sys.argv[i*2+3], sep='\\t', header=0, index_col=0)\n",
    "    matrices.append(matrix)\n",
    "\n",
    "features = pd.concat(matrices)\n",
    "hosts = get_hosts(sys.argv[1])\n",
    "\n",
    "pca_comps = PCA(8)\n",
    "pca_comps.fit(features)\n",
    "print(pca_comps.explained_variance_ratio_)\n",
    "pca = pca_comps.transform(features)\n",
    "\n",
    "cmap = plt.get_cmap('jet')\n",
    "norm = Normalize(vmin=0, vmax=len(labels))\n",
    "\n",
    "fig = plt.figure()\n",
    "\n",
    "groups = []\n",
    "for i in range(1, len(labels)):\n",
    "    group = plt.scatter(pca[labels[i-1]:labels[i], 5], pca[labels[i-1]:labels[i], 7],\n",
    "                        c=[cmap(norm(i))]*(labels[i]-labels[i-1]), edgecolor='k', s=50, picker=True, alpha=0.3,\n",
    "                        label=sys.argv[i*2])\n",
    "    groups.append(group)\n",
    "\n",
    "cid = fig.canvas.mpl_connect('pick_event', on_pick)\n",
    "plt.legend(loc='best', fontsize='x-small')\n",
    "plt.show()"
   ]
  }
 ],
 "metadata": {
  "kernelspec": {
   "display_name": "Python 3",
   "language": "python",
   "name": "python3"
  },
  "language_info": {
   "codemirror_mode": {
    "name": "ipython",
    "version": 3
   },
   "file_extension": ".py",
   "mimetype": "text/x-python",
   "name": "python",
   "nbconvert_exporter": "python",
   "pygments_lexer": "ipython3",
   "version": "3.5.2"
  }
 },
 "nbformat": 4,
 "nbformat_minor": 2
}
