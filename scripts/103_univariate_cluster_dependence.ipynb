{
 "cells": [
  {
   "cell_type": "markdown",
   "metadata": {},
   "source": [
    "# Cluster dependence\n",
    "- compare each cluster in matrix with specific cluster and find out if they are independent"
   ]
  },
  {
   "cell_type": "code",
   "execution_count": 1,
   "metadata": {},
   "outputs": [],
   "source": [
    "# imports\n",
    "import sys\n",
    "import numpy as np\n",
    "import pandas as pd\n",
    "import scipy.stats as stats"
   ]
  },
  {
   "cell_type": "code",
   "execution_count": 2,
   "metadata": {},
   "outputs": [],
   "source": [
    "# parameters\n",
    "matrix_file = '/data/projects/kimona/data_18-01-19/009_edited_matrix.tsv'\n",
    "cluster_num = 12\n",
    "cluster_name = 'Cluster_{}'.format(cluster_num)\n",
    "out_file = '/data/projects/kimona/data_18-01-19/103_{}.dep'.format(cluster_name)"
   ]
  },
  {
   "cell_type": "code",
   "execution_count": 3,
   "metadata": {},
   "outputs": [],
   "source": [
    "# matrix loading\n",
    "matrix = pd.read_csv(matrix_file, sep='\\t', header=0, index_col=0)"
   ]
  },
  {
   "cell_type": "code",
   "execution_count": 4,
   "metadata": {},
   "outputs": [
    {
     "name": "stdout",
     "output_type": "stream",
     "text": [
      "CPU times: user 17min 15s, sys: 104 ms, total: 17min 15s\n",
      "Wall time: 17min 15s\n"
     ]
    }
   ],
   "source": [
    "%%time\n",
    "# calculating dependencies\n",
    "out = open(out_file, 'w')\n",
    "base_cluster = matrix.loc[:, cluster_name]\n",
    "\n",
    "for i in range(matrix.shape[1]):\n",
    "\n",
    "    var_cluster = matrix.iloc[:, i]\n",
    "    var_cluster_name = var_cluster.name\n",
    "    ct00, ct01, ct10, ct11 = 0, 0, 0, 0\n",
    "    \n",
    "    for j in range(len(base_cluster)):\n",
    "        \n",
    "        if base_cluster[j] == 0 and var_cluster[j] == 0:\n",
    "            ct00 += 1\n",
    "        if base_cluster[j] == 0 and var_cluster[j] == 1:\n",
    "            ct01 += 1\n",
    "        if base_cluster[j] == 1 and var_cluster[j] == 0:\n",
    "            ct10 += 1\n",
    "        if base_cluster[j] == 1 and var_cluster[j] == 1:\n",
    "            ct11 += 1\n",
    "    \n",
    "    observed = np.array([[ct00, ct01],\n",
    "                         [ct10, ct11]])\n",
    "    \n",
    "    chi2, p, dof, expected = stats.chi2_contingency(observed=observed)\n",
    "    \n",
    "    if observed[0][0] > expected[0][0]:\n",
    "        # print('{}\\t{}\\t{}\\tpositivelly\\n'.format(cluster_name, var_cluster_name, p))\n",
    "        out.write('{}\\t{}\\t{}\\tpositivelly\\n'.format(cluster_name, var_cluster_name, p))\n",
    "        # out.flush()\n",
    "    else:\n",
    "        # print('{}\\t{}\\t{}\\tnegativelly\\n'.format(cluster_name, var_cluster_name, p))\n",
    "        out.write('{}\\t{}\\t{}\\tnegativelly\\n'.format(cluster_name, var_cluster_name, p))\n",
    "        # out.flush()\n",
    "        \n",
    "out.close()"
   ]
  },
  {
   "cell_type": "code",
   "execution_count": null,
   "metadata": {},
   "outputs": [],
   "source": []
  }
 ],
 "metadata": {
  "kernelspec": {
   "display_name": "Python 3",
   "language": "python",
   "name": "python3"
  },
  "language_info": {
   "codemirror_mode": {
    "name": "ipython",
    "version": 3
   },
   "file_extension": ".py",
   "mimetype": "text/x-python",
   "name": "python",
   "nbconvert_exporter": "python",
   "pygments_lexer": "ipython3",
   "version": "3.5.2"
  }
 },
 "nbformat": 4,
 "nbformat_minor": 2
}
