{
 "cells": [
  {
   "cell_type": "markdown",
   "metadata": {},
   "source": [
    "# split matrix\n",
    "- split matrix to smaller matrices according to queries\n",
    "- warn if sets are not disjunct \n",
    "- calculate how many unsorted phages are in matrix"
   ]
  },
  {
   "cell_type": "code",
   "execution_count": 1,
   "metadata": {},
   "outputs": [],
   "source": [
    "# imports\n",
    "import pandas as pd\n",
    "import os"
   ]
  },
  {
   "cell_type": "code",
   "execution_count": 2,
   "metadata": {},
   "outputs": [],
   "source": [
    "# params\n",
    "queries = ['mycobac', 'strepto', 'escheri', 'gordoni', 'pseudom', 'arthrob', 'lactoco', 'staphyl']\n",
    "hosts_file= '/data/projects/kimona/data_18-01-19/101_hosts'\n",
    "matrix_file = '/data/projects/kimona/data_18-01-19/009_edited_matrix.tsv'"
   ]
  },
  {
   "cell_type": "code",
   "execution_count": 3,
   "metadata": {},
   "outputs": [],
   "source": [
    "# matrix loading\n",
    "matrix = pd.read_csv(matrix_file, sep='\\t', header=0, index_col=0)"
   ]
  },
  {
   "cell_type": "code",
   "execution_count": 4,
   "metadata": {},
   "outputs": [],
   "source": [
    "# hosts loading\n",
    "hosts_dict = dict()\n",
    "\n",
    "with open(hosts_file) as f:\n",
    "    for line in f:\n",
    "        phage = line.split()[0]\n",
    "        string = line.split()[1]\n",
    "        \n",
    "        hosts_dict[phage] = string"
   ]
  },
  {
   "cell_type": "code",
   "execution_count": 5,
   "metadata": {},
   "outputs": [
    {
     "name": "stdout",
     "output_type": "stream",
     "text": [
      "Warning: phage0005542 streptococcus_gordonii could be in more groups.\n"
     ]
    }
   ],
   "source": [
    "# calculating how to split matrix\n",
    "query = dict()\n",
    "\n",
    "for q in queries:\n",
    "    query[q] = []\n",
    "\n",
    "for i in range(matrix.shape[0]):\n",
    "    name = matrix.iloc[i].name\n",
    "    \n",
    "    qnum = 0\n",
    "    for q in queries:\n",
    "        if q in hosts_dict[name]:\n",
    "            if qnum == 0:\n",
    "                query[q].append(name)\n",
    "            else:\n",
    "                print('Warning: {} {} could be in more groups.'.format(name, hosts_dict[name]))\n",
    "            qnum += 1\n",
    "\n",
    "if sum([len(query[q]) for q in queries]) < matrix.shape[0]:\n",
    "    print('Some phages may not have host in queries')"
   ]
  },
  {
   "cell_type": "code",
   "execution_count": 6,
   "metadata": {},
   "outputs": [],
   "source": [
    "# creating split matrices\n",
    "for q in queries:\n",
    "    \n",
    "    new_matrix = matrix.loc[query[q]]\n",
    "    matrix_out = '{}/103_{}_matrix.tsv'.format(os.path.dirname(matrix_file), q)\n",
    "    new_matrix.to_csv(matrix_out, sep='\\t')\n",
    "    \n",
    "    hosts_out = '{}/103_{}_hosts.tsv'.format(os.path.dirname(matrix_file), q)\n",
    "    hosts_out_content = ''\n",
    "    for record in query[q]:\n",
    "        hosts_out_content += '{}\\t{}\\n'.format(record, hosts_dict[record])\n",
    "    with open(hosts_out, 'w') as f:\n",
    "        f.write(hosts_out_content)"
   ]
  }
 ],
 "metadata": {
  "kernelspec": {
   "display_name": "Python 3",
   "language": "python",
   "name": "python3"
  },
  "language_info": {
   "codemirror_mode": {
    "name": "ipython",
    "version": 3
   },
   "file_extension": ".py",
   "mimetype": "text/x-python",
   "name": "python",
   "nbconvert_exporter": "python",
   "pygments_lexer": "ipython3",
   "version": "3.5.2"
  }
 },
 "nbformat": 4,
 "nbformat_minor": 2
}
